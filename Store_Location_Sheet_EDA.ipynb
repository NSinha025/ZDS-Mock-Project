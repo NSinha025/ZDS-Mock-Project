{
 "cells": [
  {
   "cell_type": "code",
   "execution_count": 1,
   "metadata": {},
   "outputs": [],
   "source": [
    "import pandas as pd"
   ]
  },
  {
   "cell_type": "code",
   "execution_count": 2,
   "metadata": {},
   "outputs": [],
   "source": [
    "import numpy as np\n",
    "import matplotlib.pyplot as plt"
   ]
  },
  {
   "cell_type": "code",
   "execution_count": 3,
   "metadata": {},
   "outputs": [
    {
     "data": {
      "text/html": [
       "<div>\n",
       "<style scoped>\n",
       "    .dataframe tbody tr th:only-of-type {\n",
       "        vertical-align: middle;\n",
       "    }\n",
       "\n",
       "    .dataframe tbody tr th {\n",
       "        vertical-align: top;\n",
       "    }\n",
       "\n",
       "    .dataframe thead th {\n",
       "        text-align: right;\n",
       "    }\n",
       "</style>\n",
       "<table border=\"1\" class=\"dataframe\">\n",
       "  <thead>\n",
       "    <tr style=\"text-align: right;\">\n",
       "      <th></th>\n",
       "      <th>_StoreID</th>\n",
       "      <th>City Name</th>\n",
       "      <th>County</th>\n",
       "      <th>StateCode</th>\n",
       "      <th>State</th>\n",
       "      <th>Type</th>\n",
       "      <th>Latitude</th>\n",
       "      <th>Longitude</th>\n",
       "      <th>AreaCode</th>\n",
       "      <th>Population</th>\n",
       "      <th>Household Income</th>\n",
       "      <th>Median Income</th>\n",
       "      <th>Land Area</th>\n",
       "      <th>Water Area</th>\n",
       "      <th>Time Zone</th>\n",
       "    </tr>\n",
       "  </thead>\n",
       "  <tbody>\n",
       "    <tr>\n",
       "      <th>0</th>\n",
       "      <td>1</td>\n",
       "      <td>Birmingham</td>\n",
       "      <td>Shelby County/Jefferson County</td>\n",
       "      <td>AL</td>\n",
       "      <td>Alabama</td>\n",
       "      <td>City</td>\n",
       "      <td>33.52744</td>\n",
       "      <td>-86.79905</td>\n",
       "      <td>205</td>\n",
       "      <td>212461</td>\n",
       "      <td>89972</td>\n",
       "      <td>31061</td>\n",
       "      <td>378353942</td>\n",
       "      <td>6591013</td>\n",
       "      <td>America/Chicago</td>\n",
       "    </tr>\n",
       "    <tr>\n",
       "      <th>1</th>\n",
       "      <td>2</td>\n",
       "      <td>Huntsville</td>\n",
       "      <td>Limestone County/Madison County</td>\n",
       "      <td>AL</td>\n",
       "      <td>Alabama</td>\n",
       "      <td>City</td>\n",
       "      <td>34.69901</td>\n",
       "      <td>-86.67298</td>\n",
       "      <td>256</td>\n",
       "      <td>190582</td>\n",
       "      <td>78554</td>\n",
       "      <td>48775</td>\n",
       "      <td>552604579</td>\n",
       "      <td>3452021</td>\n",
       "      <td>America/Chicago</td>\n",
       "    </tr>\n",
       "    <tr>\n",
       "      <th>2</th>\n",
       "      <td>3</td>\n",
       "      <td>Mobile</td>\n",
       "      <td>Mobile County</td>\n",
       "      <td>AL</td>\n",
       "      <td>Alabama</td>\n",
       "      <td>City</td>\n",
       "      <td>30.69436</td>\n",
       "      <td>-88.04305</td>\n",
       "      <td>251</td>\n",
       "      <td>194288</td>\n",
       "      <td>76170</td>\n",
       "      <td>38776</td>\n",
       "      <td>361044263</td>\n",
       "      <td>105325210</td>\n",
       "      <td>America/Chicago</td>\n",
       "    </tr>\n",
       "    <tr>\n",
       "      <th>3</th>\n",
       "      <td>4</td>\n",
       "      <td>Montgomery</td>\n",
       "      <td>Montgomery County</td>\n",
       "      <td>AL</td>\n",
       "      <td>Alabama</td>\n",
       "      <td>City</td>\n",
       "      <td>32.36681</td>\n",
       "      <td>-86.29997</td>\n",
       "      <td>334</td>\n",
       "      <td>200602</td>\n",
       "      <td>79866</td>\n",
       "      <td>42927</td>\n",
       "      <td>413985435</td>\n",
       "      <td>4411954</td>\n",
       "      <td>America/Chicago</td>\n",
       "    </tr>\n",
       "    <tr>\n",
       "      <th>4</th>\n",
       "      <td>5</td>\n",
       "      <td>Little Rock</td>\n",
       "      <td>Pulaski County</td>\n",
       "      <td>AR</td>\n",
       "      <td>Arkansas</td>\n",
       "      <td>City</td>\n",
       "      <td>34.74648</td>\n",
       "      <td>-92.28959</td>\n",
       "      <td>501</td>\n",
       "      <td>197992</td>\n",
       "      <td>79902</td>\n",
       "      <td>46085</td>\n",
       "      <td>307398785</td>\n",
       "      <td>6758644</td>\n",
       "      <td>America/Chicago</td>\n",
       "    </tr>\n",
       "    <tr>\n",
       "      <th>...</th>\n",
       "      <td>...</td>\n",
       "      <td>...</td>\n",
       "      <td>...</td>\n",
       "      <td>...</td>\n",
       "      <td>...</td>\n",
       "      <td>...</td>\n",
       "      <td>...</td>\n",
       "      <td>...</td>\n",
       "      <td>...</td>\n",
       "      <td>...</td>\n",
       "      <td>...</td>\n",
       "      <td>...</td>\n",
       "      <td>...</td>\n",
       "      <td>...</td>\n",
       "      <td>...</td>\n",
       "    </tr>\n",
       "    <tr>\n",
       "      <th>362</th>\n",
       "      <td>363</td>\n",
       "      <td>Tacoma</td>\n",
       "      <td>Pierce County</td>\n",
       "      <td>WA</td>\n",
       "      <td>Washington</td>\n",
       "      <td>City</td>\n",
       "      <td>47.25288</td>\n",
       "      <td>-122.44429</td>\n",
       "      <td>253</td>\n",
       "      <td>207948</td>\n",
       "      <td>79026</td>\n",
       "      <td>52042</td>\n",
       "      <td>128821146</td>\n",
       "      <td>32854483</td>\n",
       "      <td>America/Los Angeles</td>\n",
       "    </tr>\n",
       "    <tr>\n",
       "      <th>363</th>\n",
       "      <td>364</td>\n",
       "      <td>Vancouver</td>\n",
       "      <td>Clark County</td>\n",
       "      <td>WA</td>\n",
       "      <td>Washington</td>\n",
       "      <td>City</td>\n",
       "      <td>45.63873</td>\n",
       "      <td>-122.66149</td>\n",
       "      <td>360</td>\n",
       "      <td>172860</td>\n",
       "      <td>66417</td>\n",
       "      <td>50626</td>\n",
       "      <td>121557343</td>\n",
       "      <td>9484341</td>\n",
       "      <td>America/Los Angeles</td>\n",
       "    </tr>\n",
       "    <tr>\n",
       "      <th>364</th>\n",
       "      <td>365</td>\n",
       "      <td>Green Bay</td>\n",
       "      <td>Brown County</td>\n",
       "      <td>WI</td>\n",
       "      <td>Wisconsin</td>\n",
       "      <td>City</td>\n",
       "      <td>44.51916</td>\n",
       "      <td>-88.01983</td>\n",
       "      <td>920</td>\n",
       "      <td>105207</td>\n",
       "      <td>42308</td>\n",
       "      <td>42826</td>\n",
       "      <td>117673093</td>\n",
       "      <td>27054147</td>\n",
       "      <td>America/Chicago</td>\n",
       "    </tr>\n",
       "    <tr>\n",
       "      <th>365</th>\n",
       "      <td>366</td>\n",
       "      <td>Madison</td>\n",
       "      <td>Dane County</td>\n",
       "      <td>WI</td>\n",
       "      <td>Wisconsin</td>\n",
       "      <td>City</td>\n",
       "      <td>43.07305</td>\n",
       "      <td>-89.40123</td>\n",
       "      <td>608</td>\n",
       "      <td>248951</td>\n",
       "      <td>104087</td>\n",
       "      <td>54896</td>\n",
       "      <td>199339279</td>\n",
       "      <td>44491310</td>\n",
       "      <td>America/Chicago</td>\n",
       "    </tr>\n",
       "    <tr>\n",
       "      <th>366</th>\n",
       "      <td>367</td>\n",
       "      <td>Milwaukee</td>\n",
       "      <td>Milwaukee County/Washington County/Waukesha Co...</td>\n",
       "      <td>WI</td>\n",
       "      <td>Wisconsin</td>\n",
       "      <td>City</td>\n",
       "      <td>43.06335</td>\n",
       "      <td>-87.96670</td>\n",
       "      <td>414</td>\n",
       "      <td>600155</td>\n",
       "      <td>230807</td>\n",
       "      <td>35958</td>\n",
       "      <td>249128870</td>\n",
       "      <td>1720458</td>\n",
       "      <td>America/Chicago</td>\n",
       "    </tr>\n",
       "  </tbody>\n",
       "</table>\n",
       "<p>367 rows × 15 columns</p>\n",
       "</div>"
      ],
      "text/plain": [
       "     _StoreID    City Name                                             County  \\\n",
       "0           1   Birmingham                     Shelby County/Jefferson County   \n",
       "1           2   Huntsville                    Limestone County/Madison County   \n",
       "2           3       Mobile                                      Mobile County   \n",
       "3           4   Montgomery                                  Montgomery County   \n",
       "4           5  Little Rock                                     Pulaski County   \n",
       "..        ...          ...                                                ...   \n",
       "362       363       Tacoma                                      Pierce County   \n",
       "363       364    Vancouver                                       Clark County   \n",
       "364       365    Green Bay                                       Brown County   \n",
       "365       366      Madison                                        Dane County   \n",
       "366       367    Milwaukee  Milwaukee County/Washington County/Waukesha Co...   \n",
       "\n",
       "    StateCode       State  Type  Latitude  Longitude  AreaCode  Population  \\\n",
       "0          AL     Alabama  City  33.52744  -86.79905       205      212461   \n",
       "1          AL     Alabama  City  34.69901  -86.67298       256      190582   \n",
       "2          AL     Alabama  City  30.69436  -88.04305       251      194288   \n",
       "3          AL     Alabama  City  32.36681  -86.29997       334      200602   \n",
       "4          AR    Arkansas  City  34.74648  -92.28959       501      197992   \n",
       "..        ...         ...   ...       ...        ...       ...         ...   \n",
       "362        WA  Washington  City  47.25288 -122.44429       253      207948   \n",
       "363        WA  Washington  City  45.63873 -122.66149       360      172860   \n",
       "364        WI   Wisconsin  City  44.51916  -88.01983       920      105207   \n",
       "365        WI   Wisconsin  City  43.07305  -89.40123       608      248951   \n",
       "366        WI   Wisconsin  City  43.06335  -87.96670       414      600155   \n",
       "\n",
       "     Household Income  Median Income  Land Area  Water Area  \\\n",
       "0               89972          31061  378353942     6591013   \n",
       "1               78554          48775  552604579     3452021   \n",
       "2               76170          38776  361044263   105325210   \n",
       "3               79866          42927  413985435     4411954   \n",
       "4               79902          46085  307398785     6758644   \n",
       "..                ...            ...        ...         ...   \n",
       "362             79026          52042  128821146    32854483   \n",
       "363             66417          50626  121557343     9484341   \n",
       "364             42308          42826  117673093    27054147   \n",
       "365            104087          54896  199339279    44491310   \n",
       "366            230807          35958  249128870     1720458   \n",
       "\n",
       "               Time Zone  \n",
       "0        America/Chicago  \n",
       "1        America/Chicago  \n",
       "2        America/Chicago  \n",
       "3        America/Chicago  \n",
       "4        America/Chicago  \n",
       "..                   ...  \n",
       "362  America/Los Angeles  \n",
       "363  America/Los Angeles  \n",
       "364      America/Chicago  \n",
       "365      America/Chicago  \n",
       "366      America/Chicago  \n",
       "\n",
       "[367 rows x 15 columns]"
      ]
     },
     "execution_count": 3,
     "metadata": {},
     "output_type": "execute_result"
    }
   ],
   "source": [
    "dataset = 'Sample Dataset (1).xlsx'\n",
    "sheet = pd.read_excel(dataset, sheet_name='Store Locations Sheet')\n",
    "sheet"
   ]
  },
  {
   "cell_type": "markdown",
   "metadata": {},
   "source": [
    "#### Check for Null values\n"
   ]
  },
  {
   "cell_type": "code",
   "execution_count": 4,
   "metadata": {},
   "outputs": [
    {
     "name": "stdout",
     "output_type": "stream",
     "text": [
      "_StoreID            0\n",
      "City Name           0\n",
      "County              0\n",
      "StateCode           0\n",
      "State               0\n",
      "Type                0\n",
      "Latitude            0\n",
      "Longitude           0\n",
      "AreaCode            0\n",
      "Population          0\n",
      "Household Income    0\n",
      "Median Income       0\n",
      "Land Area           0\n",
      "Water Area          0\n",
      "Time Zone           0\n",
      "dtype: int64\n"
     ]
    }
   ],
   "source": [
    "print(sheet.isnull().sum())"
   ]
  },
  {
   "cell_type": "markdown",
   "metadata": {},
   "source": [
    "#### Check for duplicates\n"
   ]
  },
  {
   "cell_type": "code",
   "execution_count": 5,
   "metadata": {},
   "outputs": [
    {
     "name": "stdout",
     "output_type": "stream",
     "text": [
      "0\n"
     ]
    }
   ],
   "source": [
    "print(sheet.duplicated().sum())"
   ]
  },
  {
   "cell_type": "code",
   "execution_count": 6,
   "metadata": {},
   "outputs": [],
   "source": [
    "import seaborn as sns"
   ]
  },
  {
   "cell_type": "markdown",
   "metadata": {},
   "source": [
    "#### BoxPlot for Population\n"
   ]
  },
  {
   "cell_type": "code",
   "execution_count": 7,
   "metadata": {},
   "outputs": [
    {
     "data": {
      "image/png": "[encoded data removed]",
      "text/plain": [
       "<Figure size 1200x600 with 1 Axes>"
      ]
     },
     "metadata": {},
     "output_type": "display_data"
    }
   ],
   "source": [
    "# Box plot for 'Population\n",
    "\n",
    "plt.figure(figsize=(12, 6))\n",
    "# plt.subplot(1, 2, 1)\n",
    "sns.boxplot(data=sheet, y='Population')\n",
    "plt.title('Box Plot of Population')\n",
    "plt.ylabel('Population')\n",
    "plt.grid(True)\n",
    "\n",
    "plt.tight_layout()\n",
    "plt.show()"
   ]
  },
  {
   "cell_type": "markdown",
   "metadata": {},
   "source": [
    "#### Box Plot for Household Income"
   ]
  },
  {
   "cell_type": "code",
   "execution_count": 8,
   "metadata": {},
   "outputs": [
    {
     "data": {
      "image/png": "[encoded data removed]",
      "text/plain": [
       "<Figure size 1200x600 with 1 Axes>"
      ]
     },
     "metadata": {},
     "output_type": "display_data"
    }
   ],
   "source": [
    "# plt.subplot(1, 2, 2)\n",
    "plt.figure(figsize=(12, 6))\n",
    "sns.boxplot(data=sheet, y='Household Income')\n",
    "plt.title('Box Plot of Household Income')\n",
    "plt.ylabel('Household Income')\n",
    "plt.grid(True)\n",
    "\n",
    "# Adjust layout and display the plots\n",
    "plt.tight_layout()\n",
    "plt.show()"
   ]
  },
  {
   "cell_type": "code",
   "execution_count": 9,
   "metadata": {},
   "outputs": [
    {
     "data": {
      "text/html": [
       "<div>\n",
       "<style scoped>\n",
       "    .dataframe tbody tr th:only-of-type {\n",
       "        vertical-align: middle;\n",
       "    }\n",
       "\n",
       "    .dataframe tbody tr th {\n",
       "        vertical-align: top;\n",
       "    }\n",
       "\n",
       "    .dataframe thead th {\n",
       "        text-align: right;\n",
       "    }\n",
       "</style>\n",
       "<table border=\"1\" class=\"dataframe\">\n",
       "  <thead>\n",
       "    <tr style=\"text-align: right;\">\n",
       "      <th></th>\n",
       "      <th>_StoreID</th>\n",
       "      <th>City Name</th>\n",
       "      <th>County</th>\n",
       "      <th>StateCode</th>\n",
       "      <th>State</th>\n",
       "      <th>Type</th>\n",
       "      <th>Latitude</th>\n",
       "      <th>Longitude</th>\n",
       "      <th>AreaCode</th>\n",
       "      <th>Population</th>\n",
       "      <th>Household Income</th>\n",
       "      <th>Median Income</th>\n",
       "      <th>Land Area</th>\n",
       "      <th>Water Area</th>\n",
       "      <th>Time Zone</th>\n",
       "    </tr>\n",
       "  </thead>\n",
       "  <tbody>\n",
       "    <tr>\n",
       "      <th>266</th>\n",
       "      <td>267</td>\n",
       "      <td>New York City</td>\n",
       "      <td>Richmond County/Queens County/Kings County/New...</td>\n",
       "      <td>NY</td>\n",
       "      <td>New York</td>\n",
       "      <td>City</td>\n",
       "      <td>40.66347</td>\n",
       "      <td>-73.9387</td>\n",
       "      <td>718</td>\n",
       "      <td>8550405</td>\n",
       "      <td>3113535</td>\n",
       "      <td>53373</td>\n",
       "      <td>780785193</td>\n",
       "      <td>431834008</td>\n",
       "      <td>America/New York</td>\n",
       "    </tr>\n",
       "  </tbody>\n",
       "</table>\n",
       "</div>"
      ],
      "text/plain": [
       "     _StoreID      City Name  \\\n",
       "266       267  New York City   \n",
       "\n",
       "                                                County StateCode     State  \\\n",
       "266  Richmond County/Queens County/Kings County/New...        NY  New York   \n",
       "\n",
       "     Type  Latitude  Longitude  AreaCode  Population  Household Income  \\\n",
       "266  City  40.66347   -73.9387       718     8550405           3113535   \n",
       "\n",
       "     Median Income  Land Area  Water Area         Time Zone  \n",
       "266          53373  780785193   431834008  America/New York  "
      ]
     },
     "execution_count": 9,
     "metadata": {},
     "output_type": "execute_result"
    }
   ],
   "source": [
    "sheet[sheet['Population']==sheet['Population'].max()]"
   ]
  },
  {
   "cell_type": "code",
   "execution_count": 10,
   "metadata": {},
   "outputs": [
    {
     "data": {
      "text/html": [
       "<div>\n",
       "<style scoped>\n",
       "    .dataframe tbody tr th:only-of-type {\n",
       "        vertical-align: middle;\n",
       "    }\n",
       "\n",
       "    .dataframe tbody tr th {\n",
       "        vertical-align: top;\n",
       "    }\n",
       "\n",
       "    .dataframe thead th {\n",
       "        text-align: right;\n",
       "    }\n",
       "</style>\n",
       "<table border=\"1\" class=\"dataframe\">\n",
       "  <thead>\n",
       "    <tr style=\"text-align: right;\">\n",
       "      <th></th>\n",
       "      <th>_StoreID</th>\n",
       "      <th>City Name</th>\n",
       "      <th>County</th>\n",
       "      <th>StateCode</th>\n",
       "      <th>State</th>\n",
       "      <th>Type</th>\n",
       "      <th>Latitude</th>\n",
       "      <th>Longitude</th>\n",
       "      <th>AreaCode</th>\n",
       "      <th>Population</th>\n",
       "      <th>Household Income</th>\n",
       "      <th>Median Income</th>\n",
       "      <th>Land Area</th>\n",
       "      <th>Water Area</th>\n",
       "      <th>Time Zone</th>\n",
       "    </tr>\n",
       "  </thead>\n",
       "  <tbody>\n",
       "    <tr>\n",
       "      <th>266</th>\n",
       "      <td>267</td>\n",
       "      <td>New York City</td>\n",
       "      <td>Richmond County/Queens County/Kings County/New...</td>\n",
       "      <td>NY</td>\n",
       "      <td>New York</td>\n",
       "      <td>City</td>\n",
       "      <td>40.66347</td>\n",
       "      <td>-73.9387</td>\n",
       "      <td>718</td>\n",
       "      <td>8550405</td>\n",
       "      <td>3113535</td>\n",
       "      <td>53373</td>\n",
       "      <td>780785193</td>\n",
       "      <td>431834008</td>\n",
       "      <td>America/New York</td>\n",
       "    </tr>\n",
       "  </tbody>\n",
       "</table>\n",
       "</div>"
      ],
      "text/plain": [
       "     _StoreID      City Name  \\\n",
       "266       267  New York City   \n",
       "\n",
       "                                                County StateCode     State  \\\n",
       "266  Richmond County/Queens County/Kings County/New...        NY  New York   \n",
       "\n",
       "     Type  Latitude  Longitude  AreaCode  Population  Household Income  \\\n",
       "266  City  40.66347   -73.9387       718     8550405           3113535   \n",
       "\n",
       "     Median Income  Land Area  Water Area         Time Zone  \n",
       "266          53373  780785193   431834008  America/New York  "
      ]
     },
     "execution_count": 10,
     "metadata": {},
     "output_type": "execute_result"
    }
   ],
   "source": [
    "sheet[sheet['Household Income']==sheet['Household Income'].max()]"
   ]
  },
  {
   "cell_type": "code",
   "execution_count": 11,
   "metadata": {},
   "outputs": [
    {
     "data": {
      "text/plain": [
       "(20, 15)"
      ]
     },
     "execution_count": 11,
     "metadata": {},
     "output_type": "execute_result"
    }
   ],
   "source": [
    "sheet[sheet[\"StateCode\"]==\"NY\"].shape"
   ]
  },
  {
   "cell_type": "code",
   "execution_count": 14,
   "metadata": {},
   "outputs": [
    {
     "data": {
      "text/plain": [
       "_StoreID    367\n",
       "dtype: int64"
      ]
     },
     "execution_count": 14,
     "metadata": {},
     "output_type": "execute_result"
    }
   ],
   "source": [
    "y = sheet.groupby(\"State\")[[\"_StoreID\"]].count()\n",
    "y[[\"_StoreID\"]].sum()"
   ]
  },
  {
   "cell_type": "code",
   "execution_count": null,
   "metadata": {},
   "outputs": [],
   "source": []
  }
 ],
 "metadata": {
  "kernelspec": {
   "display_name": "Python 3",
   "language": "python",
   "name": "python3"
  },
  "language_info": {
   "codemirror_mode": {
    "name": "ipython",
    "version": 3
   },
   "file_extension": ".py",
   "mimetype": "text/x-python",
   "name": "python",
   "nbconvert_exporter": "python",
   "pygments_lexer": "ipython3",
   "version": "3.12.6"
  }
 },
 "nbformat": 4,
 "nbformat_minor": 2
}
